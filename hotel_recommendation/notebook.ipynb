{
 "cells": [
  {
   "cell_type": "code",
   "execution_count": 3,
   "metadata": {},
   "outputs": [
    {
     "name": "stdout",
     "output_type": "stream",
     "text": [
      "hi\n"
     ]
    }
   ],
   "source": [
    "print('hi')"
   ]
  },
  {
   "cell_type": "markdown",
   "metadata": {},
   "source": [
    "# Hotel_Recommender_System/ streamlit_app"
   ]
  },
  {
   "cell_type": "markdown",
   "metadata": {},
   "source": [
    "Project Type - Recommender System\n",
    "\n",
    "Contribution - Individual"
   ]
  },
  {
   "cell_type": "markdown",
   "metadata": {},
   "source": [
    "## Problem Statement"
   ]
  },
  {
   "cell_type": "markdown",
   "metadata": {},
   "source": [
    "Build a recommendation model to provide hotel suggestions based on user preferences and historical data. Develop a Streamlit web application to display insights and visualizations derived from the deployed travel recommendation model, offering an interactive and user-friendly interface for data exploration."
   ]
  },
  {
   "cell_type": "markdown",
   "metadata": {},
   "source": [
    "## Github Link"
   ]
  },
  {
   "cell_type": "markdown",
   "metadata": {},
   "source": [
    "https://github.com/ish-war/voyage_analysis-Integrating-MLOps-in-Travel"
   ]
  },
  {
   "cell_type": "markdown",
   "metadata": {},
   "source": [
    "## General Guidelines : -"
   ]
  },
  {
   "cell_type": "markdown",
   "metadata": {},
   "source": [
    "1. Well-structured, formatted, and commented code is required.\n",
    "\n",
    "2. Exception Handling, Production Grade Code & Deployment Ready Code will be a plus. Those students will be awarded some additional credits.\n",
    "\n",
    "3. The additional credits will have advantages over other students during Star Student selection.\n",
    "\n",
    "    [ Note: - Deployment Ready Code is defined as, the whole .ipynb notebook should be executable in one go\n",
    "              without a single error logged. ]\n",
    "Each and every logic should have proper comments.\n",
    "\n",
    "4. You may add as many number of charts you want. Make Sure for each and every chart the following format should be answered."
   ]
  },
  {
   "cell_type": "markdown",
   "metadata": {},
   "source": [
    "## Let's Begin !\n"
   ]
  },
  {
   "cell_type": "markdown",
   "metadata": {},
   "source": [
    "### Import Libraries"
   ]
  },
  {
   "cell_type": "code",
   "execution_count": 4,
   "metadata": {},
   "outputs": [],
   "source": [
    "# Import Libraries\n",
    "import streamlit as st\n",
    "import pandas as pd\n",
    "import numpy as np\n",
    "from sklearn.model_selection import train_test_split\n",
    "from sklearn.feature_extraction.text import TfidfVectorizer\n",
    "from sklearn.metrics.pairwise import linear_kernel\n",
    "import streamlit as st\n",
    "import random\n",
    "\n",
    "import warnings\n",
    "warnings.filterwarnings(\"ignore\")"
   ]
  },
  {
   "cell_type": "markdown",
   "metadata": {},
   "source": [
    "### Dataset Loading"
   ]
  },
  {
   "cell_type": "code",
   "execution_count": 5,
   "metadata": {},
   "outputs": [],
   "source": [
    "flights_df = pd.read_csv('data/flights.csv')\n",
    "hotel_df = pd.read_csv('data/hotels.csv')\n",
    "users_df = pd.read_csv('data/users.csv')\n",
    "sample_size = 5000"
   ]
  },
  {
   "cell_type": "code",
   "execution_count": 27,
   "metadata": {},
   "outputs": [
    {
     "data": {
      "text/html": [
       "<div>\n",
       "<style scoped>\n",
       "    .dataframe tbody tr th:only-of-type {\n",
       "        vertical-align: middle;\n",
       "    }\n",
       "\n",
       "    .dataframe tbody tr th {\n",
       "        vertical-align: top;\n",
       "    }\n",
       "\n",
       "    .dataframe thead th {\n",
       "        text-align: right;\n",
       "    }\n",
       "</style>\n",
       "<table border=\"1\" class=\"dataframe\">\n",
       "  <thead>\n",
       "    <tr style=\"text-align: right;\">\n",
       "      <th></th>\n",
       "      <th>travelCode</th>\n",
       "      <th>userCode</th>\n",
       "      <th>name</th>\n",
       "      <th>place</th>\n",
       "      <th>days</th>\n",
       "      <th>price</th>\n",
       "      <th>total</th>\n",
       "      <th>date</th>\n",
       "    </tr>\n",
       "  </thead>\n",
       "  <tbody>\n",
       "    <tr>\n",
       "      <th>0</th>\n",
       "      <td>0</td>\n",
       "      <td>0</td>\n",
       "      <td>Hotel A</td>\n",
       "      <td>Florianopolis (SC)</td>\n",
       "      <td>4</td>\n",
       "      <td>313.02</td>\n",
       "      <td>1252.08</td>\n",
       "      <td>09/26/2019</td>\n",
       "    </tr>\n",
       "    <tr>\n",
       "      <th>1</th>\n",
       "      <td>2</td>\n",
       "      <td>0</td>\n",
       "      <td>Hotel K</td>\n",
       "      <td>Salvador (BH)</td>\n",
       "      <td>2</td>\n",
       "      <td>263.41</td>\n",
       "      <td>526.82</td>\n",
       "      <td>10/10/2019</td>\n",
       "    </tr>\n",
       "    <tr>\n",
       "      <th>2</th>\n",
       "      <td>7</td>\n",
       "      <td>0</td>\n",
       "      <td>Hotel K</td>\n",
       "      <td>Salvador (BH)</td>\n",
       "      <td>3</td>\n",
       "      <td>263.41</td>\n",
       "      <td>790.23</td>\n",
       "      <td>11/14/2019</td>\n",
       "    </tr>\n",
       "    <tr>\n",
       "      <th>3</th>\n",
       "      <td>11</td>\n",
       "      <td>0</td>\n",
       "      <td>Hotel K</td>\n",
       "      <td>Salvador (BH)</td>\n",
       "      <td>4</td>\n",
       "      <td>263.41</td>\n",
       "      <td>1053.64</td>\n",
       "      <td>12/12/2019</td>\n",
       "    </tr>\n",
       "    <tr>\n",
       "      <th>4</th>\n",
       "      <td>13</td>\n",
       "      <td>0</td>\n",
       "      <td>Hotel A</td>\n",
       "      <td>Florianopolis (SC)</td>\n",
       "      <td>1</td>\n",
       "      <td>313.02</td>\n",
       "      <td>313.02</td>\n",
       "      <td>12/26/2019</td>\n",
       "    </tr>\n",
       "  </tbody>\n",
       "</table>\n",
       "</div>"
      ],
      "text/plain": [
       "   travelCode  userCode     name               place  days   price    total  \\\n",
       "0           0         0  Hotel A  Florianopolis (SC)     4  313.02  1252.08   \n",
       "1           2         0  Hotel K       Salvador (BH)     2  263.41   526.82   \n",
       "2           7         0  Hotel K       Salvador (BH)     3  263.41   790.23   \n",
       "3          11         0  Hotel K       Salvador (BH)     4  263.41  1053.64   \n",
       "4          13         0  Hotel A  Florianopolis (SC)     1  313.02   313.02   \n",
       "\n",
       "         date  \n",
       "0  09/26/2019  \n",
       "1  10/10/2019  \n",
       "2  11/14/2019  \n",
       "3  12/12/2019  \n",
       "4  12/26/2019  "
      ]
     },
     "execution_count": 27,
     "metadata": {},
     "output_type": "execute_result"
    }
   ],
   "source": [
    "hotel_df.head()"
   ]
  },
  {
   "cell_type": "code",
   "execution_count": 28,
   "metadata": {},
   "outputs": [
    {
     "data": {
      "text/html": [
       "<div>\n",
       "<style scoped>\n",
       "    .dataframe tbody tr th:only-of-type {\n",
       "        vertical-align: middle;\n",
       "    }\n",
       "\n",
       "    .dataframe tbody tr th {\n",
       "        vertical-align: top;\n",
       "    }\n",
       "\n",
       "    .dataframe thead th {\n",
       "        text-align: right;\n",
       "    }\n",
       "</style>\n",
       "<table border=\"1\" class=\"dataframe\">\n",
       "  <thead>\n",
       "    <tr style=\"text-align: right;\">\n",
       "      <th></th>\n",
       "      <th>travelCode</th>\n",
       "      <th>userCode</th>\n",
       "      <th>name</th>\n",
       "      <th>place</th>\n",
       "      <th>days</th>\n",
       "      <th>price</th>\n",
       "      <th>total</th>\n",
       "      <th>date</th>\n",
       "    </tr>\n",
       "  </thead>\n",
       "  <tbody>\n",
       "    <tr>\n",
       "      <th>40547</th>\n",
       "      <td>135938</td>\n",
       "      <td>1339</td>\n",
       "      <td>Hotel BP</td>\n",
       "      <td>Brasilia (DF)</td>\n",
       "      <td>3</td>\n",
       "      <td>247.62</td>\n",
       "      <td>742.86</td>\n",
       "      <td>06/18/2020</td>\n",
       "    </tr>\n",
       "    <tr>\n",
       "      <th>40548</th>\n",
       "      <td>135939</td>\n",
       "      <td>1339</td>\n",
       "      <td>Hotel BP</td>\n",
       "      <td>Brasilia (DF)</td>\n",
       "      <td>1</td>\n",
       "      <td>247.62</td>\n",
       "      <td>247.62</td>\n",
       "      <td>06/25/2020</td>\n",
       "    </tr>\n",
       "    <tr>\n",
       "      <th>40549</th>\n",
       "      <td>135940</td>\n",
       "      <td>1339</td>\n",
       "      <td>Hotel BW</td>\n",
       "      <td>Campo Grande (MS)</td>\n",
       "      <td>3</td>\n",
       "      <td>60.39</td>\n",
       "      <td>181.17</td>\n",
       "      <td>07/02/2020</td>\n",
       "    </tr>\n",
       "    <tr>\n",
       "      <th>40550</th>\n",
       "      <td>135941</td>\n",
       "      <td>1339</td>\n",
       "      <td>Hotel BW</td>\n",
       "      <td>Campo Grande (MS)</td>\n",
       "      <td>3</td>\n",
       "      <td>60.39</td>\n",
       "      <td>181.17</td>\n",
       "      <td>07/09/2020</td>\n",
       "    </tr>\n",
       "    <tr>\n",
       "      <th>40551</th>\n",
       "      <td>135942</td>\n",
       "      <td>1339</td>\n",
       "      <td>Hotel BD</td>\n",
       "      <td>Natal (RN)</td>\n",
       "      <td>4</td>\n",
       "      <td>242.88</td>\n",
       "      <td>971.52</td>\n",
       "      <td>07/16/2020</td>\n",
       "    </tr>\n",
       "  </tbody>\n",
       "</table>\n",
       "</div>"
      ],
      "text/plain": [
       "       travelCode  userCode      name              place  days   price  \\\n",
       "40547      135938      1339  Hotel BP      Brasilia (DF)     3  247.62   \n",
       "40548      135939      1339  Hotel BP      Brasilia (DF)     1  247.62   \n",
       "40549      135940      1339  Hotel BW  Campo Grande (MS)     3   60.39   \n",
       "40550      135941      1339  Hotel BW  Campo Grande (MS)     3   60.39   \n",
       "40551      135942      1339  Hotel BD         Natal (RN)     4  242.88   \n",
       "\n",
       "        total        date  \n",
       "40547  742.86  06/18/2020  \n",
       "40548  247.62  06/25/2020  \n",
       "40549  181.17  07/02/2020  \n",
       "40550  181.17  07/09/2020  \n",
       "40551  971.52  07/16/2020  "
      ]
     },
     "execution_count": 28,
     "metadata": {},
     "output_type": "execute_result"
    }
   ],
   "source": [
    "hotel_df.tail()"
   ]
  },
  {
   "cell_type": "code",
   "execution_count": 29,
   "metadata": {},
   "outputs": [
    {
     "data": {
      "text/plain": [
       "travelCode    0\n",
       "userCode      0\n",
       "name          0\n",
       "place         0\n",
       "days          0\n",
       "price         0\n",
       "total         0\n",
       "date          0\n",
       "dtype: int64"
      ]
     },
     "execution_count": 29,
     "metadata": {},
     "output_type": "execute_result"
    }
   ],
   "source": [
    "hotel_df.isna().sum()"
   ]
  },
  {
   "cell_type": "code",
   "execution_count": 32,
   "metadata": {},
   "outputs": [
    {
     "data": {
      "text/plain": [
       "np.int64(0)"
      ]
     },
     "execution_count": 32,
     "metadata": {},
     "output_type": "execute_result"
    }
   ],
   "source": [
    "hotel_df.duplicated().sum()"
   ]
  },
  {
   "cell_type": "code",
   "execution_count": 33,
   "metadata": {},
   "outputs": [
    {
     "data": {
      "text/plain": [
       "<bound method DataFrame.info of        travelCode  userCode      name               place  days   price  \\\n",
       "0               0         0   Hotel A  Florianopolis (SC)     4  313.02   \n",
       "1               2         0   Hotel K       Salvador (BH)     2  263.41   \n",
       "2               7         0   Hotel K       Salvador (BH)     3  263.41   \n",
       "3              11         0   Hotel K       Salvador (BH)     4  263.41   \n",
       "4              13         0   Hotel A  Florianopolis (SC)     1  313.02   \n",
       "...           ...       ...       ...                 ...   ...     ...   \n",
       "40547      135938      1339  Hotel BP       Brasilia (DF)     3  247.62   \n",
       "40548      135939      1339  Hotel BP       Brasilia (DF)     1  247.62   \n",
       "40549      135940      1339  Hotel BW   Campo Grande (MS)     3   60.39   \n",
       "40550      135941      1339  Hotel BW   Campo Grande (MS)     3   60.39   \n",
       "40551      135942      1339  Hotel BD          Natal (RN)     4  242.88   \n",
       "\n",
       "         total        date  \n",
       "0      1252.08  09/26/2019  \n",
       "1       526.82  10/10/2019  \n",
       "2       790.23  11/14/2019  \n",
       "3      1053.64  12/12/2019  \n",
       "4       313.02  12/26/2019  \n",
       "...        ...         ...  \n",
       "40547   742.86  06/18/2020  \n",
       "40548   247.62  06/25/2020  \n",
       "40549   181.17  07/02/2020  \n",
       "40550   181.17  07/09/2020  \n",
       "40551   971.52  07/16/2020  \n",
       "\n",
       "[40552 rows x 8 columns]>"
      ]
     },
     "execution_count": 33,
     "metadata": {},
     "output_type": "execute_result"
    }
   ],
   "source": [
    "hotel_df.info"
   ]
  },
  {
   "cell_type": "code",
   "execution_count": 34,
   "metadata": {},
   "outputs": [
    {
     "data": {
      "text/html": [
       "<div>\n",
       "<style scoped>\n",
       "    .dataframe tbody tr th:only-of-type {\n",
       "        vertical-align: middle;\n",
       "    }\n",
       "\n",
       "    .dataframe tbody tr th {\n",
       "        vertical-align: top;\n",
       "    }\n",
       "\n",
       "    .dataframe thead th {\n",
       "        text-align: right;\n",
       "    }\n",
       "</style>\n",
       "<table border=\"1\" class=\"dataframe\">\n",
       "  <thead>\n",
       "    <tr style=\"text-align: right;\">\n",
       "      <th></th>\n",
       "      <th>travelCode</th>\n",
       "      <th>userCode</th>\n",
       "      <th>days</th>\n",
       "      <th>price</th>\n",
       "      <th>total</th>\n",
       "    </tr>\n",
       "  </thead>\n",
       "  <tbody>\n",
       "    <tr>\n",
       "      <th>count</th>\n",
       "      <td>40552.000000</td>\n",
       "      <td>40552.000000</td>\n",
       "      <td>40552.000000</td>\n",
       "      <td>40552.000000</td>\n",
       "      <td>40552.000000</td>\n",
       "    </tr>\n",
       "    <tr>\n",
       "      <th>mean</th>\n",
       "      <td>67911.794461</td>\n",
       "      <td>666.963726</td>\n",
       "      <td>2.499679</td>\n",
       "      <td>214.439554</td>\n",
       "      <td>536.229513</td>\n",
       "    </tr>\n",
       "    <tr>\n",
       "      <th>std</th>\n",
       "      <td>39408.199333</td>\n",
       "      <td>391.136794</td>\n",
       "      <td>1.119326</td>\n",
       "      <td>76.742305</td>\n",
       "      <td>319.331482</td>\n",
       "    </tr>\n",
       "    <tr>\n",
       "      <th>min</th>\n",
       "      <td>0.000000</td>\n",
       "      <td>0.000000</td>\n",
       "      <td>1.000000</td>\n",
       "      <td>60.390000</td>\n",
       "      <td>60.390000</td>\n",
       "    </tr>\n",
       "    <tr>\n",
       "      <th>25%</th>\n",
       "      <td>33696.750000</td>\n",
       "      <td>323.000000</td>\n",
       "      <td>1.000000</td>\n",
       "      <td>165.990000</td>\n",
       "      <td>247.620000</td>\n",
       "    </tr>\n",
       "    <tr>\n",
       "      <th>50%</th>\n",
       "      <td>67831.000000</td>\n",
       "      <td>658.000000</td>\n",
       "      <td>2.000000</td>\n",
       "      <td>242.880000</td>\n",
       "      <td>495.240000</td>\n",
       "    </tr>\n",
       "    <tr>\n",
       "      <th>75%</th>\n",
       "      <td>102211.250000</td>\n",
       "      <td>1013.000000</td>\n",
       "      <td>4.000000</td>\n",
       "      <td>263.410000</td>\n",
       "      <td>742.860000</td>\n",
       "    </tr>\n",
       "    <tr>\n",
       "      <th>max</th>\n",
       "      <td>135942.000000</td>\n",
       "      <td>1339.000000</td>\n",
       "      <td>4.000000</td>\n",
       "      <td>313.020000</td>\n",
       "      <td>1252.080000</td>\n",
       "    </tr>\n",
       "  </tbody>\n",
       "</table>\n",
       "</div>"
      ],
      "text/plain": [
       "          travelCode      userCode          days         price         total\n",
       "count   40552.000000  40552.000000  40552.000000  40552.000000  40552.000000\n",
       "mean    67911.794461    666.963726      2.499679    214.439554    536.229513\n",
       "std     39408.199333    391.136794      1.119326     76.742305    319.331482\n",
       "min         0.000000      0.000000      1.000000     60.390000     60.390000\n",
       "25%     33696.750000    323.000000      1.000000    165.990000    247.620000\n",
       "50%     67831.000000    658.000000      2.000000    242.880000    495.240000\n",
       "75%    102211.250000   1013.000000      4.000000    263.410000    742.860000\n",
       "max    135942.000000   1339.000000      4.000000    313.020000   1252.080000"
      ]
     },
     "execution_count": 34,
     "metadata": {},
     "output_type": "execute_result"
    }
   ],
   "source": [
    "hotel_df.describe()"
   ]
  },
  {
   "cell_type": "code",
   "execution_count": 6,
   "metadata": {},
   "outputs": [],
   "source": [
    "# Set a random seed for reproducibility\n",
    "random.seed(42)"
   ]
  },
  {
   "cell_type": "code",
   "execution_count": 7,
   "metadata": {},
   "outputs": [],
   "source": [
    "users_with_enough_interactions_df = hotel_df.groupby(['userCode']).size().groupby('userCode').size()\n"
   ]
  },
  {
   "cell_type": "code",
   "execution_count": 8,
   "metadata": {},
   "outputs": [],
   "source": [
    "users_interactions_count_df = hotel_df.groupby(['userCode','name']).size().groupby('userCode').size()\n",
    "users_with_enough_interactions_df = users_interactions_count_df[users_interactions_count_df >= 2].reset_index()[['userCode']]\n"
   ]
  },
  {
   "cell_type": "code",
   "execution_count": 9,
   "metadata": {},
   "outputs": [],
   "source": [
    "interactions_from_selected_users_df = hotel_df.merge(users_with_enough_interactions_df,\n",
    "               how = 'right',\n",
    "               left_on = 'userCode',\n",
    "               right_on = 'userCode')\n"
   ]
  },
  {
   "cell_type": "code",
   "execution_count": 10,
   "metadata": {},
   "outputs": [],
   "source": [
    "# Encode userCode and hotel name to numeric values\n",
    "from sklearn.preprocessing import LabelEncoder\n",
    "label_encoder = LabelEncoder()\n",
    "#df_hotel['userCode'] = label_encoder.fit_transform(df_hotel['userCode'])\n",
    "interactions_from_selected_users_df['name_encoded'] = label_encoder.fit_transform(interactions_from_selected_users_df['name'])\n",
    "  "
   ]
  },
  {
   "cell_type": "code",
   "execution_count": 11,
   "metadata": {},
   "outputs": [],
   "source": [
    "import math\n",
    "def smooth_user_preference(x):\n",
    "    return math.log(1+x, 2)\n",
    "     \n"
   ]
  },
  {
   "cell_type": "code",
   "execution_count": 12,
   "metadata": {},
   "outputs": [],
   "source": [
    "interactions_full_df = interactions_from_selected_users_df.groupby(['name_encoded','userCode'])['price'].sum().reset_index()\n",
    " "
   ]
  },
  {
   "cell_type": "code",
   "execution_count": 25,
   "metadata": {},
   "outputs": [],
   "source": [
    "interactions_train_df, interactions_test_df = train_test_split(interactions_full_df,\n",
    "                                                               stratify=interactions_full_df['userCode'],\n",
    "                                   test_size=0.25,\n",
    "                                   random_state=42)\n",
    "\n",
    "x_test=set(interactions_test_df['userCode'])\n",
    "x_train=set(interactions_train_df['userCode'])\n",
    "\n",
    "only_in_set1 = x_train - x_test\n",
    "\n",
    "\n",
    "#print(\"Elements in train but not in test:\", only_in_set1)\n",
    "\n",
    "only_in_set2 = x_test - x_train\n",
    "\n",
    "#print(\"Elements in test but not in train:\", only_in_set2)"
   ]
  },
  {
   "cell_type": "code",
   "execution_count": 14,
   "metadata": {},
   "outputs": [],
   "source": [
    "#Creating a sparse pivot table with users in rows and items in columns\n",
    "items_users_pivot_matrix_df = interactions_train_df.pivot(index='userCode',\n",
    "                                                          columns='name_encoded',\n",
    "                                                          values='price').fillna(0)\n"
   ]
  },
  {
   "cell_type": "code",
   "execution_count": 15,
   "metadata": {},
   "outputs": [],
   "source": [
    "items_users_pivot_matrix = items_users_pivot_matrix_df.values\n",
    "#items_users_pivot_matrix[:10]\n",
    "\n",
    "user_ids = list(items_users_pivot_matrix_df.index)\n",
    "#user_ids[:10]"
   ]
  },
  {
   "cell_type": "code",
   "execution_count": 16,
   "metadata": {},
   "outputs": [],
   "source": [
    "#items_users_pivot_matrix.shape\n",
    "\n",
    "# The number of factors to factor the item-user matrix.\n",
    "NUMBER_OF_FACTORS_MF = 8"
   ]
  },
  {
   "cell_type": "code",
   "execution_count": 17,
   "metadata": {},
   "outputs": [],
   "source": [
    "import scipy\n",
    "from scipy.sparse.linalg import svds\n",
    "#Performs matrix factorization of the original user item matrix\n",
    "U, sigma, Vt = svds(items_users_pivot_matrix, k = NUMBER_OF_FACTORS_MF)\n",
    "\n",
    "sigma = np.diag(sigma)\n",
    "all_user_predicted_ratings = np.dot(np.dot(U, sigma), Vt)"
   ]
  },
  {
   "cell_type": "code",
   "execution_count": 18,
   "metadata": {},
   "outputs": [],
   "source": [
    "#Converting the reconstructed matrix back to a Pandas dataframe\n",
    "cf_preds_df = pd.DataFrame(all_user_predicted_ratings, columns = items_users_pivot_matrix_df.columns,index=user_ids).transpose()\n"
   ]
  },
  {
   "cell_type": "code",
   "execution_count": 19,
   "metadata": {},
   "outputs": [],
   "source": [
    "class CFRecommender:\n",
    "\n",
    "    MODEL_NAME = 'Collaborative Filtering'\n",
    "\n",
    "    def __init__(self, cf_predictions_df , items_df):\n",
    "        self.cf_predictions_df = cf_predictions_df\n",
    "        self.items_df = items_df\n",
    "\n",
    "    def get_model_name(self):\n",
    "        return self.MODEL_NAME\n",
    "  "
   ]
  },
  {
   "cell_type": "code",
   "execution_count": 20,
   "metadata": {},
   "outputs": [],
   "source": [
    "def recommend_items(self, user_id, items_to_ignore=[], topn=5, verbose=False):\n",
    "        if user_id not in self.cf_predictions_df.columns:\n",
    "            raise KeyError(f\"User '{user_id}' not found in prediction data.\")\n",
    "        # Get and sort the user's predictions\n",
    "        sorted_user_predictions = self.cf_predictions_df[user_id].sort_values(ascending=False).reset_index().rename(columns={user_id: 'recStrength'})\n",
    "\n",
    "        # Recommend the highest predicted rating content that the user hasn't seen yet.\n",
    "        recommendations_df = sorted_user_predictions[~sorted_user_predictions['name_encoded'].isin(items_to_ignore)].sort_values('recStrength', ascending=False).head(topn)\n",
    "\n",
    "        if verbose:\n",
    "            if self.items_df is None:\n",
    "                raise Exception('\"items_df\" is required in verbose mode')\n",
    "\n",
    "            # Merge recommendations_df with items_df\n",
    "            recommendations_df = recommendations_df.merge(self.items_df, how='left',\n",
    "                                                          left_on='name_encoded',\n",
    "                                                          right_on='name_encoded')[['name_encoded','name','recStrength']]\n",
    "            recommendations_df=pd.DataFrame(recommendations_df.groupby('name').max('recStrength').sort_values('recStrength', ascending=False))\n",
    "\n",
    "        return recommendations_df\n",
    " "
   ]
  },
  {
   "cell_type": "code",
   "execution_count": 21,
   "metadata": {},
   "outputs": [],
   "source": [
    "# Assuming cf_preds_df and interactions_from_selected_users_df are defined elsewhere\n",
    "cf_recommender_model = CFRecommender(cf_preds_df, interactions_from_selected_users_df)\n"
   ]
  },
  {
   "cell_type": "markdown",
   "metadata": {},
   "source": [
    "## Save Model"
   ]
  },
  {
   "cell_type": "code",
   "execution_count": 26,
   "metadata": {},
   "outputs": [
    {
     "name": "stdout",
     "output_type": "stream",
     "text": [
      "Model saved successfully!\n"
     ]
    }
   ],
   "source": [
    "import pickle\n",
    "\n",
    "# Save the CFRecommender model\n",
    "with open(\"cf_recommender.pkl\", \"wb\") as f:\n",
    "    pickle.dump(cf_recommender_model, f)\n",
    "\n",
    "print(\"Model saved successfully!\")\n"
   ]
  },
  {
   "cell_type": "code",
   "execution_count": null,
   "metadata": {},
   "outputs": [],
   "source": []
  }
 ],
 "metadata": {
  "kernelspec": {
   "display_name": "Python 3",
   "language": "python",
   "name": "python3"
  },
  "language_info": {
   "codemirror_mode": {
    "name": "ipython",
    "version": 3
   },
   "file_extension": ".py",
   "mimetype": "text/x-python",
   "name": "python",
   "nbconvert_exporter": "python",
   "pygments_lexer": "ipython3",
   "version": "3.10.16"
  }
 },
 "nbformat": 4,
 "nbformat_minor": 2
}
